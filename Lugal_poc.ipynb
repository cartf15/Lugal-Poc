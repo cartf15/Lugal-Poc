{
 "metadata": {
  "language_info": {
   "codemirror_mode": {
    "name": "ipython",
    "version": 3
   },
   "file_extension": ".py",
   "mimetype": "text/x-python",
   "name": "python",
   "nbconvert_exporter": "python",
   "pygments_lexer": "ipython3",
   "version": "3.7.9"
  },
  "orig_nbformat": 2,
  "kernelspec": {
   "name": "python379jvsc74a57bd0399b41da65d02765a146ea518d96e49b27fc80969369a4aa63f46d6479a085a2",
   "display_name": "Python 3.7.9 64-bit ('env': venv)",
   "language": "python"
  },
  "metadata": {
   "interpreter": {
    "hash": "9e9a8b464bb2b8d8eb78ac3ae8beaa661d68cd7e5a61b78221101cad1396e5d2"
   }
  }
 },
 "nbformat": 4,
 "nbformat_minor": 2,
 "cells": [
  {
   "cell_type": "code",
   "execution_count": 72,
   "metadata": {},
   "outputs": [],
   "source": [
    "import selenium\n",
    "import chromedriver_binary \n",
    "from selenium import webdriver\n",
    "from selenium.webdriver.common.by import By\n",
    "from selenium.webdriver.support.ui import WebDriverWait\n",
    "from selenium.webdriver.support import expected_conditions as EC\n",
    "from selenium.webdriver.common.keys import Keys\n",
    "import pyperclip\n",
    "import time \n",
    "import pandas as pd\n",
    "import logging\n",
    "import os\n",
    "import shutil\n",
    "import pyautogui\n"
   ]
  },
  {
   "cell_type": "code",
   "execution_count": 2,
   "metadata": {},
   "outputs": [],
   "source": [
    "#Creación de directorios\n",
    "driverPath='C:/chromedriver/'\n",
    "#variables\n",
    "CHROMEDRIVER=driverPath+'chromedriver.exe'\n",
    "#Credenciales\n",
    "usr='Lugal2020'\n",
    "psw='LugalMod@2019'\n",
    "#paginas web\n",
    "Lugal='https://lugalmoda.co/wp-admin/'\n"
   ]
  },
  {
   "cell_type": "code",
   "execution_count": 3,
   "metadata": {},
   "outputs": [],
   "source": [
    "def __browser__ (CHROMEDRIVER, pagina):\n",
    "\n",
    "    browser = webdriver.Chrome(\n",
    "            executable_path =CHROMEDRIVER)\n",
    "    browser.maximize_window()\n",
    "    browser.get(pagina)\n",
    "    return browser"
   ]
  },
  {
   "cell_type": "code",
   "execution_count": 4,
   "metadata": {},
   "outputs": [],
   "source": [
    "def __login__ (browser, usr,psw):\n",
    "    \n",
    "    #usuario \n",
    "    search_xpath = '//*[@id=\"user_login\"]'\n",
    "    search_box =WebDriverWait(browser, 500).until(  EC.presence_of_element_located(     (By.XPATH, search_xpath)    )   )\n",
    "    search_box.clear()\n",
    "    time.sleep(1)\n",
    "    pyperclip.copy(usr)\n",
    "    search_box.send_keys(Keys.SHIFT, Keys.INSERT)  # Keys.CONTROL + \"v\"\n",
    "    time.sleep(0.1)\n",
    "\n",
    "    #contraseña\n",
    "    search_xpath = '//*[@id=\"user_pass\"]'\n",
    "    search_box =WebDriverWait(browser, 500).until(  EC.presence_of_element_located(     (By.XPATH, search_xpath)    )   )\n",
    "    search_box.clear()\n",
    "    time.sleep(0.1)\n",
    "    pyperclip.copy(psw)\n",
    "    search_box.send_keys(Keys.SHIFT, Keys.INSERT)  # Keys.CONTROL + \"v\"\n",
    "    time.sleep(2)\n",
    "\n",
    "\n",
    "    #clic\n",
    "    login_path='//*[@id=\"wp-submit\"]'\n",
    "    login=browser.find_element_by_xpath(login_path)\n",
    "    login.click()\n",
    "\n",
    "\n",
    "    return print('Login OK')"
   ]
  },
  {
   "cell_type": "code",
   "execution_count": 5,
   "metadata": {},
   "outputs": [],
   "source": [
    "\n",
    "def stockManager(browser, sku):\n",
    "\n",
    "    # Go to pagos\n",
    "    sm ='//*[@id=\"toplevel_page_stock-manager\"]/a/div[3]'\n",
    "    p = browser.find_element_by_xpath(sm)\n",
    "    p.click()\n",
    "    time.sleep(6)\n",
    "\n",
    "    \n",
    "    \n",
    "    #Ingresa SKU\n",
    "    sku_search = '//*[@id=\"woocommerce-product-manager-filter-search\"]'\n",
    "    sku_box =WebDriverWait(browser, 500).until(  EC.presence_of_element_located(     (By.XPATH, sku_search)    )   )\n",
    "    sku_box.clear()\n",
    "    time.sleep(1)\n",
    "    pyperclip.copy(sku)\n",
    "    sku_box.send_keys(Keys.SHIFT, Keys.INSERT)  # Keys.CONTROL + \"v\"\n",
    "    time.sleep(0.5)\n",
    "    # sku_box.send_keys(Keys.ENTER)\n",
    "    # time.sleep(0.5)\n",
    "\n",
    "    #selecciona producto variable \n",
    "    time.sleep(3)\n",
    "    pv ='//*[@id=\"woocommerce-stock-manager-app\"]/div/table/tbody/tr/td[2]/button'\n",
    "    pve = browser.find_element_by_xpath(pv)\n",
    "    pve.click()     \n",
    "        \n",
    "      \n",
    "    "
   ]
  },
  {
   "cell_type": "code",
   "execution_count": 82,
   "metadata": {},
   "outputs": [],
   "source": [
    "def updateTable(browser):\n",
    "    stock_table_rows = browser.find_elements_by_xpath(\"//*[@id='woocommerce-stock-manager-app']/div/table/tbody/tr\")\n",
    "    stock_table_rows=stock_table_rows[1:]\n",
    "    for i in stock_table_rows: \n",
    "        \n",
    "        column_values = i.find_elements_by_xpath(\".//td\")\n",
    "        # for column in column_values:\n",
    "        \n",
    "            \n",
    "        if str(column_values[3].text)  in 'Rosado, XL':\n",
    "            print(str(column_values[3].text))\n",
    "            # Click on Check box\n",
    "            browser.execute_script(\"arguments[0].click();\",column_values[6].find_element_by_xpath(\".//input\") )\n",
    "            print('Clicked')\n",
    "            # column_values[8].find_element_by_xpath('.//input').click()\n",
    "            # column_values[8].find_element_by_xpath('.//input').send_keys('4')\n",
    "            # print('Stock updated')\n",
    "            time.sleep(.5)\n",
    "            column_values[8].find_element_by_xpath('.//input').send_keys('4')\n",
    "\n",
    "\n",
    "    #clic mouse\n",
    "    # time.sleep(2)\n",
    "    # pyautogui.click(1178, 725)\n",
    "    time.sleep(5)\n",
    "    browser.find_element_by_xpath('//*[@id=\"woocommerce-stock-manager-app\"]/div/div[2]/button[2]').click()"
   ]
  },
  {
   "cell_type": "code",
   "execution_count": 81,
   "metadata": {},
   "outputs": [
    {
     "output_type": "execute_result",
     "data": {
      "text/plain": [
       "Point(x=1178, y=725)"
      ]
     },
     "metadata": {},
     "execution_count": 81
    }
   ],
   "source": [
    "pyautogui.position()"
   ]
  },
  {
   "cell_type": "code",
   "execution_count": 85,
   "metadata": {},
   "outputs": [
    {
     "output_type": "stream",
     "name": "stdout",
     "text": [
      "Login OK\n"
     ]
    },
    {
     "output_type": "error",
     "ename": "NoSuchElementException",
     "evalue": "Message: no such element: Unable to locate element: {\"method\":\"xpath\",\"selector\":\"//*[@id=\"woocommerce-stock-manager-app\"]/div/div[2]/button[2]\"}\n  (Session info: chrome=90.0.4430.93)\n",
     "traceback": [
      "\u001b[1;31m---------------------------------------------------------------------------\u001b[0m",
      "\u001b[1;31mNoSuchElementException\u001b[0m                    Traceback (most recent call last)",
      "\u001b[1;32m<ipython-input-85-9255001edcfa>\u001b[0m in \u001b[0;36m<module>\u001b[1;34m\u001b[0m\n\u001b[0;32m      2\u001b[0m \u001b[0m__login__\u001b[0m \u001b[1;33m(\u001b[0m\u001b[0mbrowser\u001b[0m\u001b[1;33m,\u001b[0m\u001b[0musr\u001b[0m\u001b[1;33m,\u001b[0m\u001b[0mpsw\u001b[0m\u001b[1;33m)\u001b[0m\u001b[1;33m\u001b[0m\u001b[1;33m\u001b[0m\u001b[0m\n\u001b[0;32m      3\u001b[0m \u001b[0mstockManager\u001b[0m\u001b[1;33m(\u001b[0m\u001b[0mbrowser\u001b[0m\u001b[1;33m,\u001b[0m \u001b[1;34m'6446-1019'\u001b[0m\u001b[1;33m)\u001b[0m\u001b[1;33m\u001b[0m\u001b[1;33m\u001b[0m\u001b[0m\n\u001b[1;32m----> 4\u001b[1;33m \u001b[0mupdateTable\u001b[0m\u001b[1;33m(\u001b[0m\u001b[0mbrowser\u001b[0m\u001b[1;33m)\u001b[0m\u001b[1;33m\u001b[0m\u001b[1;33m\u001b[0m\u001b[0m\n\u001b[0m",
      "\u001b[1;32m<ipython-input-82-2c83cac76edf>\u001b[0m in \u001b[0;36mupdateTable\u001b[1;34m(browser)\u001b[0m\n\u001b[0;32m     25\u001b[0m     \u001b[0mpyautogui\u001b[0m\u001b[1;33m.\u001b[0m\u001b[0mclick\u001b[0m\u001b[1;33m(\u001b[0m\u001b[1;36m1178\u001b[0m\u001b[1;33m,\u001b[0m \u001b[1;36m725\u001b[0m\u001b[1;33m)\u001b[0m\u001b[1;33m\u001b[0m\u001b[1;33m\u001b[0m\u001b[0m\n\u001b[0;32m     26\u001b[0m     \u001b[0mtime\u001b[0m\u001b[1;33m.\u001b[0m\u001b[0msleep\u001b[0m\u001b[1;33m(\u001b[0m\u001b[1;36m5\u001b[0m\u001b[1;33m)\u001b[0m\u001b[1;33m\u001b[0m\u001b[1;33m\u001b[0m\u001b[0m\n\u001b[1;32m---> 27\u001b[1;33m     \u001b[0mbrowser\u001b[0m\u001b[1;33m.\u001b[0m\u001b[0mfind_element_by_xpath\u001b[0m\u001b[1;33m(\u001b[0m\u001b[1;34m'//*[@id=\"woocommerce-stock-manager-app\"]/div/div[2]/button[2]'\u001b[0m\u001b[1;33m)\u001b[0m\u001b[1;33m.\u001b[0m\u001b[0mclick\u001b[0m\u001b[1;33m(\u001b[0m\u001b[1;33m)\u001b[0m\u001b[1;33m\u001b[0m\u001b[1;33m\u001b[0m\u001b[0m\n\u001b[0m",
      "\u001b[1;32mc:\\Code\\Lugal POC\\env\\lib\\site-packages\\selenium\\webdriver\\remote\\webdriver.py\u001b[0m in \u001b[0;36mfind_element_by_xpath\u001b[1;34m(self, xpath)\u001b[0m\n\u001b[0;32m    392\u001b[0m             \u001b[0melement\u001b[0m \u001b[1;33m=\u001b[0m \u001b[0mdriver\u001b[0m\u001b[1;33m.\u001b[0m\u001b[0mfind_element_by_xpath\u001b[0m\u001b[1;33m(\u001b[0m\u001b[1;34m'//div/td[1]'\u001b[0m\u001b[1;33m)\u001b[0m\u001b[1;33m\u001b[0m\u001b[1;33m\u001b[0m\u001b[0m\n\u001b[0;32m    393\u001b[0m         \"\"\"\n\u001b[1;32m--> 394\u001b[1;33m         \u001b[1;32mreturn\u001b[0m \u001b[0mself\u001b[0m\u001b[1;33m.\u001b[0m\u001b[0mfind_element\u001b[0m\u001b[1;33m(\u001b[0m\u001b[0mby\u001b[0m\u001b[1;33m=\u001b[0m\u001b[0mBy\u001b[0m\u001b[1;33m.\u001b[0m\u001b[0mXPATH\u001b[0m\u001b[1;33m,\u001b[0m \u001b[0mvalue\u001b[0m\u001b[1;33m=\u001b[0m\u001b[0mxpath\u001b[0m\u001b[1;33m)\u001b[0m\u001b[1;33m\u001b[0m\u001b[1;33m\u001b[0m\u001b[0m\n\u001b[0m\u001b[0;32m    395\u001b[0m \u001b[1;33m\u001b[0m\u001b[0m\n\u001b[0;32m    396\u001b[0m     \u001b[1;32mdef\u001b[0m \u001b[0mfind_elements_by_xpath\u001b[0m\u001b[1;33m(\u001b[0m\u001b[0mself\u001b[0m\u001b[1;33m,\u001b[0m \u001b[0mxpath\u001b[0m\u001b[1;33m)\u001b[0m\u001b[1;33m:\u001b[0m\u001b[1;33m\u001b[0m\u001b[1;33m\u001b[0m\u001b[0m\n",
      "\u001b[1;32mc:\\Code\\Lugal POC\\env\\lib\\site-packages\\selenium\\webdriver\\remote\\webdriver.py\u001b[0m in \u001b[0;36mfind_element\u001b[1;34m(self, by, value)\u001b[0m\n\u001b[0;32m    976\u001b[0m         return self.execute(Command.FIND_ELEMENT, {\n\u001b[0;32m    977\u001b[0m             \u001b[1;34m'using'\u001b[0m\u001b[1;33m:\u001b[0m \u001b[0mby\u001b[0m\u001b[1;33m,\u001b[0m\u001b[1;33m\u001b[0m\u001b[1;33m\u001b[0m\u001b[0m\n\u001b[1;32m--> 978\u001b[1;33m             'value': value})['value']\n\u001b[0m\u001b[0;32m    979\u001b[0m \u001b[1;33m\u001b[0m\u001b[0m\n\u001b[0;32m    980\u001b[0m     \u001b[1;32mdef\u001b[0m \u001b[0mfind_elements\u001b[0m\u001b[1;33m(\u001b[0m\u001b[0mself\u001b[0m\u001b[1;33m,\u001b[0m \u001b[0mby\u001b[0m\u001b[1;33m=\u001b[0m\u001b[0mBy\u001b[0m\u001b[1;33m.\u001b[0m\u001b[0mID\u001b[0m\u001b[1;33m,\u001b[0m \u001b[0mvalue\u001b[0m\u001b[1;33m=\u001b[0m\u001b[1;32mNone\u001b[0m\u001b[1;33m)\u001b[0m\u001b[1;33m:\u001b[0m\u001b[1;33m\u001b[0m\u001b[1;33m\u001b[0m\u001b[0m\n",
      "\u001b[1;32mc:\\Code\\Lugal POC\\env\\lib\\site-packages\\selenium\\webdriver\\remote\\webdriver.py\u001b[0m in \u001b[0;36mexecute\u001b[1;34m(self, driver_command, params)\u001b[0m\n\u001b[0;32m    319\u001b[0m         \u001b[0mresponse\u001b[0m \u001b[1;33m=\u001b[0m \u001b[0mself\u001b[0m\u001b[1;33m.\u001b[0m\u001b[0mcommand_executor\u001b[0m\u001b[1;33m.\u001b[0m\u001b[0mexecute\u001b[0m\u001b[1;33m(\u001b[0m\u001b[0mdriver_command\u001b[0m\u001b[1;33m,\u001b[0m \u001b[0mparams\u001b[0m\u001b[1;33m)\u001b[0m\u001b[1;33m\u001b[0m\u001b[1;33m\u001b[0m\u001b[0m\n\u001b[0;32m    320\u001b[0m         \u001b[1;32mif\u001b[0m \u001b[0mresponse\u001b[0m\u001b[1;33m:\u001b[0m\u001b[1;33m\u001b[0m\u001b[1;33m\u001b[0m\u001b[0m\n\u001b[1;32m--> 321\u001b[1;33m             \u001b[0mself\u001b[0m\u001b[1;33m.\u001b[0m\u001b[0merror_handler\u001b[0m\u001b[1;33m.\u001b[0m\u001b[0mcheck_response\u001b[0m\u001b[1;33m(\u001b[0m\u001b[0mresponse\u001b[0m\u001b[1;33m)\u001b[0m\u001b[1;33m\u001b[0m\u001b[1;33m\u001b[0m\u001b[0m\n\u001b[0m\u001b[0;32m    322\u001b[0m             response['value'] = self._unwrap_value(\n\u001b[0;32m    323\u001b[0m                 response.get('value', None))\n",
      "\u001b[1;32mc:\\Code\\Lugal POC\\env\\lib\\site-packages\\selenium\\webdriver\\remote\\errorhandler.py\u001b[0m in \u001b[0;36mcheck_response\u001b[1;34m(self, response)\u001b[0m\n\u001b[0;32m    240\u001b[0m                 \u001b[0malert_text\u001b[0m \u001b[1;33m=\u001b[0m \u001b[0mvalue\u001b[0m\u001b[1;33m[\u001b[0m\u001b[1;34m'alert'\u001b[0m\u001b[1;33m]\u001b[0m\u001b[1;33m.\u001b[0m\u001b[0mget\u001b[0m\u001b[1;33m(\u001b[0m\u001b[1;34m'text'\u001b[0m\u001b[1;33m)\u001b[0m\u001b[1;33m\u001b[0m\u001b[1;33m\u001b[0m\u001b[0m\n\u001b[0;32m    241\u001b[0m             \u001b[1;32mraise\u001b[0m \u001b[0mexception_class\u001b[0m\u001b[1;33m(\u001b[0m\u001b[0mmessage\u001b[0m\u001b[1;33m,\u001b[0m \u001b[0mscreen\u001b[0m\u001b[1;33m,\u001b[0m \u001b[0mstacktrace\u001b[0m\u001b[1;33m,\u001b[0m \u001b[0malert_text\u001b[0m\u001b[1;33m)\u001b[0m\u001b[1;33m\u001b[0m\u001b[1;33m\u001b[0m\u001b[0m\n\u001b[1;32m--> 242\u001b[1;33m         \u001b[1;32mraise\u001b[0m \u001b[0mexception_class\u001b[0m\u001b[1;33m(\u001b[0m\u001b[0mmessage\u001b[0m\u001b[1;33m,\u001b[0m \u001b[0mscreen\u001b[0m\u001b[1;33m,\u001b[0m \u001b[0mstacktrace\u001b[0m\u001b[1;33m)\u001b[0m\u001b[1;33m\u001b[0m\u001b[1;33m\u001b[0m\u001b[0m\n\u001b[0m\u001b[0;32m    243\u001b[0m \u001b[1;33m\u001b[0m\u001b[0m\n\u001b[0;32m    244\u001b[0m     \u001b[1;32mdef\u001b[0m \u001b[0m_value_or_default\u001b[0m\u001b[1;33m(\u001b[0m\u001b[0mself\u001b[0m\u001b[1;33m,\u001b[0m \u001b[0mobj\u001b[0m\u001b[1;33m,\u001b[0m \u001b[0mkey\u001b[0m\u001b[1;33m,\u001b[0m \u001b[0mdefault\u001b[0m\u001b[1;33m)\u001b[0m\u001b[1;33m:\u001b[0m\u001b[1;33m\u001b[0m\u001b[1;33m\u001b[0m\u001b[0m\n",
      "\u001b[1;31mNoSuchElementException\u001b[0m: Message: no such element: Unable to locate element: {\"method\":\"xpath\",\"selector\":\"//*[@id=\"woocommerce-stock-manager-app\"]/div/div[2]/button[2]\"}\n  (Session info: chrome=90.0.4430.93)\n"
     ]
    }
   ],
   "source": [
    "\n",
    "browser=__browser__ (CHROMEDRIVER,Lugal) # open browser\n",
    "__login__ (browser,usr,psw)\n",
    "stockManager(browser, '6446-1019')\n",
    "updateTable(browser)"
   ]
  },
  {
   "cell_type": "code",
   "execution_count": null,
   "metadata": {},
   "outputs": [],
   "source": [
    "df={Rosa}"
   ]
  },
  {
   "cell_type": "code",
   "execution_count": 68,
   "metadata": {},
   "outputs": [],
   "source": [
    "def updateTable(browser):\n",
    "    stock_table_rows = browser.find_elements_by_xpath(\"//*[@id='woocommerce-stock-manager-app']/div/table/tbody/tr\")\n",
    "    stock_table_rows=stock_table_rows[1:]\n",
    "    for i in stock_table_rows: \n",
    "        \n",
    "        column_values = i.find_elements_by_xpath(\".//td\")\n",
    "        # for column in column_values:\n",
    "        \n",
    "            \n",
    "        if str(column_values[3].text)  in 'Rosado, XL':\n",
    "            print(str(column_values[3].text))\n",
    "            # Click on Check box\n",
    "            # column_values[6].click()\n",
    "            browser.execute_script(\"arguments[0].click();\",column_values[6].find_element_by_xpath(\".//input\") )\n",
    "            print('Clicked')\n",
    "            # column_values[8].find_element_by_xpath('.//input').click()\n",
    "            # column_values[8].find_element_by_xpath('.//input').send_keys('4')\n",
    "            # print('Stock updated')\n",
    "            time.sleep(.5)\n",
    "            column_values[8].find_element_by_xpath('.//input').send_keys('4')\n",
    "\n",
    "    browser.find_element_by_xpath('//*[@id=\"woocommerce-stock-manager-app\"]/div/div[2]/button[2]').click()\n",
    "\n",
    "\n"
   ]
  },
  {
   "cell_type": "code",
   "execution_count": null,
   "metadata": {},
   "outputs": [],
   "source": []
  }
 ]
}