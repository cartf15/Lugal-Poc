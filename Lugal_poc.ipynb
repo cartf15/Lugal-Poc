{
 "metadata": {
  "language_info": {
   "codemirror_mode": {
    "name": "ipython",
    "version": 3
   },
   "file_extension": ".py",
   "mimetype": "text/x-python",
   "name": "python",
   "nbconvert_exporter": "python",
   "pygments_lexer": "ipython3",
   "version": "3.7.9"
  },
  "orig_nbformat": 2,
  "kernelspec": {
   "name": "python379jvsc74a57bd0399b41da65d02765a146ea518d96e49b27fc80969369a4aa63f46d6479a085a2",
   "display_name": "Python 3.7.9 64-bit ('env': venv)"
  },
  "metadata": {
   "interpreter": {
    "hash": "9e9a8b464bb2b8d8eb78ac3ae8beaa661d68cd7e5a61b78221101cad1396e5d2"
   }
  }
 },
 "nbformat": 4,
 "nbformat_minor": 2,
 "cells": [
  {
   "cell_type": "code",
   "execution_count": 3,
   "metadata": {},
   "outputs": [],
   "source": [
    "import selenium\n",
    "import chromedriver_binary \n",
    "from selenium import webdriver\n",
    "from selenium.webdriver.common.by import By\n",
    "from selenium.webdriver.support.ui import WebDriverWait\n",
    "from selenium.webdriver.support import expected_conditions as EC\n",
    "from selenium.webdriver.common.keys import Keys\n",
    "import pyperclip\n",
    "import time \n",
    "import pandas as pd\n",
    "import logging\n",
    "import os\n",
    "import shutil\n"
   ]
  },
  {
   "cell_type": "code",
   "execution_count": 5,
   "metadata": {},
   "outputs": [],
   "source": [
    "#Creación de directorios\n",
    "driverPath='C:/chromedriver/'\n",
    "#variables\n",
    "CHROMEDRIVER=driverPath+'chromedriver.exe'\n",
    "#Credenciales\n",
    "usr='Lugal2020'\n",
    "psw='LugalMod@2019'\n",
    "#paginas web\n",
    "Lugal='https://lugalmoda.co/wp-admin/'\n"
   ]
  },
  {
   "cell_type": "code",
   "execution_count": 7,
   "metadata": {},
   "outputs": [],
   "source": [
    "def __browser__ (CHROMEDRIVER, pagina):\n",
    "\n",
    "    browser = webdriver.Chrome(\n",
    "            executable_path =CHROMEDRIVER)\n",
    "    browser.maximize_window()\n",
    "    browser.get(pagina)\n",
    "    return browser"
   ]
  },
  {
   "cell_type": "code",
   "execution_count": 8,
   "metadata": {},
   "outputs": [],
   "source": [
    "def __login__ (browser, usr,psw):\n",
    "    \n",
    "    #usuario \n",
    "    search_xpath = '//*[@id=\"user_login\"]'\n",
    "    search_box =WebDriverWait(browser, 500).until(  EC.presence_of_element_located(     (By.XPATH, search_xpath)    )   )\n",
    "    search_box.clear()\n",
    "    time.sleep(1)\n",
    "    pyperclip.copy(usr)\n",
    "    search_box.send_keys(Keys.SHIFT, Keys.INSERT)  # Keys.CONTROL + \"v\"\n",
    "    time.sleep(0.1)\n",
    "\n",
    "    #contraseña\n",
    "    search_xpath = '//*[@id=\"user_pass\"]'\n",
    "    search_box =WebDriverWait(browser, 500).until(  EC.presence_of_element_located(     (By.XPATH, search_xpath)    )   )\n",
    "    search_box.clear()\n",
    "    time.sleep(0.1)\n",
    "    pyperclip.copy(psw)\n",
    "    search_box.send_keys(Keys.SHIFT, Keys.INSERT)  # Keys.CONTROL + \"v\"\n",
    "    time.sleep(2)\n",
    "\n",
    "\n",
    "    #clic\n",
    "    login_path='//*[@id=\"wp-submit\"]'\n",
    "    login=browser.find_element_by_xpath(login_path)\n",
    "    login.click()\n",
    "\n",
    "\n",
    "    return print('Login OK')"
   ]
  },
  {
   "cell_type": "code",
   "execution_count": 28,
   "metadata": {},
   "outputs": [],
   "source": [
    "\n",
    "def stockManager(browser, sku):\n",
    "\n",
    "    # Go to pagos\n",
    "    sm ='//*[@id=\"toplevel_page_stock-manager\"]/a/div[3]'\n",
    "    p = browser.find_element_by_xpath(sm)\n",
    "    p.click()\n",
    "    time.sleep(6)\n",
    "\n",
    "    \n",
    "    \n",
    "    #Ingresa SKU\n",
    "    sku_search = '//*[@id=\"woocommerce-product-manager-filter-search\"]'\n",
    "    sku_box =WebDriverWait(browser, 500).until(  EC.presence_of_element_located(     (By.XPATH, sku_search)    )   )\n",
    "    sku_box.clear()\n",
    "    time.sleep(1)\n",
    "    pyperclip.copy(sku)\n",
    "    sku_box.send_keys(Keys.SHIFT, Keys.INSERT)  # Keys.CONTROL + \"v\"\n",
    "    time.sleep(0.5)\n",
    "    # sku_box.send_keys(Keys.ENTER)\n",
    "    # time.sleep(0.5)\n",
    "\n",
    "    #selecciona producto variable \n",
    "    time.sleep(3)\n",
    "    pv ='//*[@id=\"woocommerce-stock-manager-app\"]/div/table/tbody/tr/td[2]/button'\n",
    "    pve = browser.find_element_by_xpath(pv)\n",
    "    pve.click()     \n",
    "        \n",
    "      \n",
    "    "
   ]
  },
  {
   "cell_type": "code",
   "execution_count": 29,
   "metadata": {},
   "outputs": [
    {
     "output_type": "stream",
     "name": "stdout",
     "text": [
      "Login OK\n"
     ]
    }
   ],
   "source": [
    "\n",
    "browser=__browser__ (CHROMEDRIVER,Lugal) # open browser\n",
    "__login__ (browser,usr,psw)\n",
    "stockManager(browser, '6446-1019')"
   ]
  },
  {
   "cell_type": "code",
   "execution_count": 30,
   "metadata": {},
   "outputs": [
    {
     "output_type": "stream",
     "name": "stdout",
     "text": [
      "Numero de lineas :  17\n\nNumero de Columnas :  17\n"
     ]
    }
   ],
   "source": [
    "num_rows = len (browser.find_elements_by_xpath(\"//*[@id='woocommerce-stock-manager-app']/div/table/tbody/tr\"))\n",
    "num_cols = len (browser.find_elements_by_xpath(\"//*[@id='woocommerce-stock-manager-app']/div/table/tbody/tr\"))\n",
    "print('Numero de lineas : ', num_rows,)\n",
    "print('\\nNumero de Columnas : ', num_cols)\n"
   ]
  },
  {
   "cell_type": "code",
   "execution_count": null,
   "metadata": {},
   "outputs": [],
   "source": []
  }
 ]
}